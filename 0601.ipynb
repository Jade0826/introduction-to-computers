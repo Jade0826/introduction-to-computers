{
  "nbformat": 4,
  "nbformat_minor": 0,
  "metadata": {
    "colab": {
      "name": "0601.ipynb",
      "provenance": [],
      "collapsed_sections": [],
      "authorship_tag": "ABX9TyP87L+kswgxACsmCVuSsjev",
      "include_colab_link": true
    },
    "kernelspec": {
      "name": "python3",
      "display_name": "Python 3"
    },
    "language_info": {
      "name": "python"
    }
  },
  "cells": [
    {
      "cell_type": "markdown",
      "metadata": {
        "id": "view-in-github",
        "colab_type": "text"
      },
      "source": [
        "<a href=\"https://colab.research.google.com/github/Jade0826/introduction-to-computers/blob/main/0601.ipynb\" target=\"_parent\"><img src=\"https://colab.research.google.com/assets/colab-badge.svg\" alt=\"Open In Colab\"/></a>"
      ]
    },
    {
      "cell_type": "code",
      "execution_count": null,
      "metadata": {
        "colab": {
          "base_uri": "https://localhost:8080/"
        },
        "id": "AmzxMfThnlDS",
        "outputId": "5c650769-b8ae-45a4-a018-5fb1eb5f2fbc"
      },
      "outputs": [
        {
          "output_type": "stream",
          "name": "stdout",
          "text": [
            "0601\n"
          ]
        }
      ],
      "source": [
        "print(\"0601\")"
      ]
    },
    {
      "cell_type": "code",
      "source": [
        "for i in range(2,10):\n",
        "  for j in range(1,10):\n",
        "    product=i*j\n",
        "    print(\"%d*%d=%2d\"%(i,j,product),end=\" \")\n",
        "    print()"
      ],
      "metadata": {
        "colab": {
          "base_uri": "https://localhost:8080/"
        },
        "id": "rH6Zt_cinuuG",
        "outputId": "d94d05d5-9a15-48c0-b447-c255e336a53c"
      },
      "execution_count": null,
      "outputs": [
        {
          "output_type": "stream",
          "name": "stdout",
          "text": [
            "2*1= 2 \n",
            "2*2= 4 \n",
            "2*3= 6 \n",
            "2*4= 8 \n",
            "2*5=10 \n",
            "2*6=12 \n",
            "2*7=14 \n",
            "2*8=16 \n",
            "2*9=18 \n",
            "3*1= 3 \n",
            "3*2= 6 \n",
            "3*3= 9 \n",
            "3*4=12 \n",
            "3*5=15 \n",
            "3*6=18 \n",
            "3*7=21 \n",
            "3*8=24 \n",
            "3*9=27 \n",
            "4*1= 4 \n",
            "4*2= 8 \n",
            "4*3=12 \n",
            "4*4=16 \n",
            "4*5=20 \n",
            "4*6=24 \n",
            "4*7=28 \n",
            "4*8=32 \n",
            "4*9=36 \n",
            "5*1= 5 \n",
            "5*2=10 \n",
            "5*3=15 \n",
            "5*4=20 \n",
            "5*5=25 \n",
            "5*6=30 \n",
            "5*7=35 \n",
            "5*8=40 \n",
            "5*9=45 \n",
            "6*1= 6 \n",
            "6*2=12 \n",
            "6*3=18 \n",
            "6*4=24 \n",
            "6*5=30 \n",
            "6*6=36 \n",
            "6*7=42 \n",
            "6*8=48 \n",
            "6*9=54 \n",
            "7*1= 7 \n",
            "7*2=14 \n",
            "7*3=21 \n",
            "7*4=28 \n",
            "7*5=35 \n",
            "7*6=42 \n",
            "7*7=49 \n",
            "7*8=56 \n",
            "7*9=63 \n",
            "8*1= 8 \n",
            "8*2=16 \n",
            "8*3=24 \n",
            "8*4=32 \n",
            "8*5=40 \n",
            "8*6=48 \n",
            "8*7=56 \n",
            "8*8=64 \n",
            "8*9=72 \n",
            "9*1= 9 \n",
            "9*2=18 \n",
            "9*3=27 \n",
            "9*4=36 \n",
            "9*5=45 \n",
            "9*6=54 \n",
            "9*7=63 \n",
            "9*8=72 \n",
            "9*9=81 \n"
          ]
        }
      ]
    },
    {
      "cell_type": "code",
      "source": [
        "a=int(input(\"請輸入a的值:\"))\n",
        "b=int(input(\"請輸入b的值:\"))\n",
        "\n",
        "maxno=a*b\n",
        "for i in range(1,maxno+1):\n",
        "  if(i % a==0 and i%b==0):\n",
        "    break\n",
        "print(\"%d和%d的最小公倍數=%d\"%(a,b,i))"
      ],
      "metadata": {
        "colab": {
          "base_uri": "https://localhost:8080/"
        },
        "id": "n69migTApm4V",
        "outputId": "dfa23050-753e-46d0-9ab5-60bb13cadf1a"
      },
      "execution_count": null,
      "outputs": [
        {
          "output_type": "stream",
          "name": "stdout",
          "text": [
            "請輸入a的值:5\n",
            "請輸入b的值:4\n",
            "5和4的最小公倍數=20\n"
          ]
        }
      ]
    },
    {
      "cell_type": "code",
      "source": [
        "n=int(input(\"請輸入一個正整數:\"))\n",
        "for i in range(1,n+1):\n",
        "  if i % 5== 0:\n",
        "    continue\n",
        "  print(i, end=\" \")"
      ],
      "metadata": {
        "colab": {
          "base_uri": "https://localhost:8080/"
        },
        "id": "CCpxIiCJr6Oe",
        "outputId": "3aebf591-4494-42f4-8b24-1c5436df936f"
      },
      "execution_count": null,
      "outputs": [
        {
          "output_type": "stream",
          "name": "stdout",
          "text": [
            "請輸入一個正整數:25\n",
            "1 2 3 4 6 7 8 9 11 12 13 14 16 17 18 19 21 22 23 24 "
          ]
        }
      ]
    },
    {
      "cell_type": "code",
      "source": [
        "total=n=0\n",
        "while(n<10):\n",
        "  n+=1\n",
        "  total+=n\n",
        "print(total)"
      ],
      "metadata": {
        "colab": {
          "base_uri": "https://localhost:8080/"
        },
        "id": "OLhjkrmcs58m",
        "outputId": "a78f4b8e-ea3f-4f1b-cc4f-e66fa68b06cb"
      },
      "execution_count": null,
      "outputs": [
        {
          "output_type": "stream",
          "name": "stdout",
          "text": [
            "55\n"
          ]
        }
      ]
    },
    {
      "cell_type": "code",
      "source": [
        "total=n=0\n",
        "while(n<=10):\n",
        "  total+=n\n",
        "  n+=1\n",
        "print(total)"
      ],
      "metadata": {
        "colab": {
          "base_uri": "https://localhost:8080/"
        },
        "id": "Ra8n7JwWtpvg",
        "outputId": "196aea85-97e1-4abb-dd68-e89a7f8dc1ff"
      },
      "execution_count": null,
      "outputs": [
        {
          "output_type": "stream",
          "name": "stdout",
          "text": [
            "55\n"
          ]
        }
      ]
    },
    {
      "cell_type": "code",
      "source": [
        "total=n=0\n",
        "while(n<= 10):\n",
        "  total+=n\n",
        "print(total)"
      ],
      "metadata": {
        "colab": {
          "base_uri": "https://localhost:8080/",
          "height": 219
        },
        "id": "9FWm73onvjpA",
        "outputId": "6e4f7da4-6a72-4421-c6ed-1765361514a9"
      },
      "execution_count": null,
      "outputs": [
        {
          "output_type": "error",
          "ename": "KeyboardInterrupt",
          "evalue": "ignored",
          "traceback": [
            "\u001b[0;31m---------------------------------------------------------------------------\u001b[0m",
            "\u001b[0;31mKeyboardInterrupt\u001b[0m                         Traceback (most recent call last)",
            "\u001b[0;32m<ipython-input-16-28ed5b2ee84d>\u001b[0m in \u001b[0;36m<module>\u001b[0;34m()\u001b[0m\n\u001b[1;32m      1\u001b[0m \u001b[0mtotal\u001b[0m\u001b[0;34m=\u001b[0m\u001b[0mn\u001b[0m\u001b[0;34m=\u001b[0m\u001b[0;36m0\u001b[0m\u001b[0;34m\u001b[0m\u001b[0;34m\u001b[0m\u001b[0m\n\u001b[1;32m      2\u001b[0m \u001b[0;32mwhile\u001b[0m\u001b[0;34m(\u001b[0m\u001b[0mn\u001b[0m\u001b[0;34m<=\u001b[0m \u001b[0;36m10\u001b[0m\u001b[0;34m)\u001b[0m\u001b[0;34m:\u001b[0m\u001b[0;34m\u001b[0m\u001b[0;34m\u001b[0m\u001b[0m\n\u001b[0;32m----> 3\u001b[0;31m   \u001b[0mtotal\u001b[0m\u001b[0;34m+=\u001b[0m\u001b[0mn\u001b[0m\u001b[0;34m\u001b[0m\u001b[0;34m\u001b[0m\u001b[0m\n\u001b[0m\u001b[1;32m      4\u001b[0m \u001b[0mprint\u001b[0m\u001b[0;34m(\u001b[0m\u001b[0mtotal\u001b[0m\u001b[0;34m)\u001b[0m\u001b[0;34m\u001b[0m\u001b[0;34m\u001b[0m\u001b[0m\n",
            "\u001b[0;31mKeyboardInterrupt\u001b[0m: "
          ]
        }
      ]
    },
    {
      "cell_type": "code",
      "source": [
        "total=i=1\n",
        "n=int(input(\"請輸入正整數n的值:\"))\n",
        "while i<=n:\n",
        "  total*=i\n",
        "  i+=1\n",
        "print(\"%d!=%d\" % (n, total))"
      ],
      "metadata": {
        "colab": {
          "base_uri": "https://localhost:8080/"
        },
        "id": "yEHU3IbXwQqB",
        "outputId": "d6085ea7-69b3-4cb1-80ba-fd6cdd9d1475"
      },
      "execution_count": null,
      "outputs": [
        {
          "output_type": "stream",
          "name": "stdout",
          "text": [
            "請輸入正整數n的值:100\n",
            "100!=93326215443944152681699238856266700490715968264381621468592963895217599993229915608941463976156518286253697920827223758251185210916864000000000000000000000000\n"
          ]
        }
      ]
    },
    {
      "cell_type": "code",
      "source": [
        "i=0\n",
        "even_sum=0\n",
        "odd_sum=0\n",
        "while i<=50:\n",
        "  if i%2==0:\n",
        "    even_sum+=i\n",
        "  else:\n",
        "    odd_sum+=i\n",
        "  i+=1\n",
        "print(\"0~50之偶數和=%d\" % even_sum)\n",
        "print(\"0`50之奇數和=%d\" % odd_sum)"
      ],
      "metadata": {
        "colab": {
          "base_uri": "https://localhost:8080/"
        },
        "id": "CAeguMMiyu5n",
        "outputId": "0829f658-f99f-4039-ee35-21a3d33bc2fd"
      },
      "execution_count": null,
      "outputs": [
        {
          "output_type": "stream",
          "name": "stdout",
          "text": [
            "0~50之偶數和=650\n",
            "0`50之奇數和=625\n"
          ]
        }
      ]
    },
    {
      "cell_type": "code",
      "source": [
        "n=eval(input())\n",
        "for i in range (n):\n",
        "  print((n-i)*\"*\")\n",
        "  "
      ],
      "metadata": {
        "colab": {
          "base_uri": "https://localhost:8080/"
        },
        "id": "XJZkN0ccUiks",
        "outputId": "8dcf7c23-db85-4ae4-98bc-c88b86596af6"
      },
      "execution_count": 2,
      "outputs": [
        {
          "output_type": "stream",
          "name": "stdout",
          "text": [
            "7\n",
            "*******\n",
            "******\n",
            "*****\n",
            "****\n",
            "***\n",
            "**\n",
            "*\n"
          ]
        }
      ]
    },
    {
      "cell_type": "code",
      "source": [
        "n=eval(input())\n",
        "for i in range (n):\n",
        "  print ((n-i)*\"*\")\n"
      ],
      "metadata": {
        "id": "0kNuG-nk0wd5",
        "colab": {
          "base_uri": "https://localhost:8080/"
        },
        "outputId": "487226e3-564c-4fc1-a41e-10da00b81367"
      },
      "execution_count": 1,
      "outputs": [
        {
          "output_type": "stream",
          "name": "stdout",
          "text": [
            "5\n",
            "*****\n",
            "****\n",
            "***\n",
            "**\n",
            "*\n"
          ]
        }
      ]
    },
    {
      "cell_type": "code",
      "source": [
        "sum=0\n",
        "for i in range(1,101):\n",
        "  if i % 3==0 or i % 7==0:\n",
        "    sum+=i\n",
        "print(\"1~100中,3或7的倍數總和=\"+str(sum))\n"
      ],
      "metadata": {
        "colab": {
          "base_uri": "https://localhost:8080/"
        },
        "id": "QxM5jCCHU6Gy",
        "outputId": "338fc742-c36d-4dcc-a3bf-a845467e2b6f"
      },
      "execution_count": 5,
      "outputs": [
        {
          "output_type": "stream",
          "name": "stdout",
          "text": [
            "1~100中,3或7的倍數總和=2208\n"
          ]
        }
      ]
    },
    {
      "cell_type": "code",
      "source": [
        "a=b=int(input(\"請輸入一個正整數:\"))\n",
        "output=\"\"\n",
        "while True:\n",
        "  for i in range(2,(a+1)):\n",
        "    if i==b:\n",
        "      break\n",
        "    if a%i==0:\n",
        "      output+=f\"{i}\"\n",
        "      a=int(a/i)\n",
        "      break\n",
        "  if a==1 or a==b:\n",
        "    break\n",
        "  else:\n",
        "    output+=\"*\"\n",
        "if a==b:\n",
        "  print(f\"{b}是質數\")\n",
        "else:\n",
        "  print(f\"{b}={output}\")"
      ],
      "metadata": {
        "colab": {
          "base_uri": "https://localhost:8080/"
        },
        "id": "ZtH7QzTgXBB8",
        "outputId": "df33742c-add6-43e6-d3b3-aa2382af9855"
      },
      "execution_count": 10,
      "outputs": [
        {
          "output_type": "stream",
          "name": "stdout",
          "text": [
            "請輸入一個正整數:11\n",
            "11是質數\n"
          ]
        }
      ]
    }
  ]
}