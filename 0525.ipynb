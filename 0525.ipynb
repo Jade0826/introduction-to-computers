{
  "nbformat": 4,
  "nbformat_minor": 0,
  "metadata": {
    "colab": {
      "name": "0525.ipynb",
      "provenance": [],
      "authorship_tag": "ABX9TyNQWFkFh7xczScUfwwbsfac",
      "include_colab_link": true
    },
    "kernelspec": {
      "name": "python3",
      "display_name": "Python 3"
    },
    "language_info": {
      "name": "python"
    }
  },
  "cells": [
    {
      "cell_type": "markdown",
      "metadata": {
        "id": "view-in-github",
        "colab_type": "text"
      },
      "source": [
        "<a href=\"https://colab.research.google.com/github/Jade0826/introduction-to-computers/blob/main/0525.ipynb\" target=\"_parent\"><img src=\"https://colab.research.google.com/assets/colab-badge.svg\" alt=\"Open In Colab\"/></a>"
      ]
    },
    {
      "cell_type": "code",
      "execution_count": 1,
      "metadata": {
        "colab": {
          "base_uri": "https://localhost:8080/"
        },
        "id": "xjLbtp7FaxLy",
        "outputId": "ec391328-0412-41fe-d7ae-18e1890b96c1"
      },
      "outputs": [
        {
          "output_type": "stream",
          "name": "stdout",
          "text": [
            "test\n"
          ]
        }
      ],
      "source": [
        "print(\"test\")"
      ]
    },
    {
      "cell_type": "code",
      "source": [
        "sum=0\n",
        "test=int(input(\"請輸入一個正整數:\"))\n",
        "for n in range(1,test+1):\n",
        "  sum=sum+n\n",
        "print(\"1到\",test,\"的整數合為\",sum)"
      ],
      "metadata": {
        "colab": {
          "base_uri": "https://localhost:8080/"
        },
        "id": "Z-07cHOLbLIe",
        "outputId": "1a662412-0b70-4d7a-8ee2-49f3fba9e64f"
      },
      "execution_count": 2,
      "outputs": [
        {
          "output_type": "stream",
          "name": "stdout",
          "text": [
            "請輸入一個正整數:50\n",
            "1到 50 的整數合為 1275\n"
          ]
        }
      ]
    },
    {
      "cell_type": "code",
      "source": [
        "sum=0\n",
        "test=int(input(\"請輸入一個正整數:\"))\n",
        "for m in range(1,test+1):\n",
        "  sum=sum+m\n",
        "  print(\"1到\",str(m)+\"的整數合為\",sum)"
      ],
      "metadata": {
        "colab": {
          "base_uri": "https://localhost:8080/"
        },
        "id": "FjdezNjMb70o",
        "outputId": "c437fdea-cf81-47a1-be06-d5dc514d6de2"
      },
      "execution_count": 5,
      "outputs": [
        {
          "output_type": "stream",
          "name": "stdout",
          "text": [
            "請輸入一個正整數:50\n",
            "1到 1的整數合為 1\n",
            "1到 2的整數合為 3\n",
            "1到 3的整數合為 6\n",
            "1到 4的整數合為 10\n",
            "1到 5的整數合為 15\n",
            "1到 6的整數合為 21\n",
            "1到 7的整數合為 28\n",
            "1到 8的整數合為 36\n",
            "1到 9的整數合為 45\n",
            "1到 10的整數合為 55\n",
            "1到 11的整數合為 66\n",
            "1到 12的整數合為 78\n",
            "1到 13的整數合為 91\n",
            "1到 14的整數合為 105\n",
            "1到 15的整數合為 120\n",
            "1到 16的整數合為 136\n",
            "1到 17的整數合為 153\n",
            "1到 18的整數合為 171\n",
            "1到 19的整數合為 190\n",
            "1到 20的整數合為 210\n",
            "1到 21的整數合為 231\n",
            "1到 22的整數合為 253\n",
            "1到 23的整數合為 276\n",
            "1到 24的整數合為 300\n",
            "1到 25的整數合為 325\n",
            "1到 26的整數合為 351\n",
            "1到 27的整數合為 378\n",
            "1到 28的整數合為 406\n",
            "1到 29的整數合為 435\n",
            "1到 30的整數合為 465\n",
            "1到 31的整數合為 496\n",
            "1到 32的整數合為 528\n",
            "1到 33的整數合為 561\n",
            "1到 34的整數合為 595\n",
            "1到 35的整數合為 630\n",
            "1到 36的整數合為 666\n",
            "1到 37的整數合為 703\n",
            "1到 38的整數合為 741\n",
            "1到 39的整數合為 780\n",
            "1到 40的整數合為 820\n",
            "1到 41的整數合為 861\n",
            "1到 42的整數合為 903\n",
            "1到 43的整數合為 946\n",
            "1到 44的整數合為 990\n",
            "1到 45的整數合為 1035\n",
            "1到 46的整數合為 1081\n",
            "1到 47的整數合為 1128\n",
            "1到 48的整數合為 1176\n",
            "1到 49的整數合為 1225\n",
            "1到 50的整數合為 1275\n"
          ]
        }
      ]
    },
    {
      "cell_type": "code",
      "source": [
        ""
      ],
      "metadata": {
        "id": "W51DBSBkdAzs"
      },
      "execution_count": null,
      "outputs": []
    }
  ]
}